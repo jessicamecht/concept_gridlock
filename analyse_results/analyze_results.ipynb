{
 "cells": [
  {
   "cell_type": "code",
   "execution_count": 14,
   "metadata": {},
   "outputs": [],
   "source": [
    "import pandas as pd\n",
    "import sys\n",
    "sys.path.append(\"../\")\n",
    "import matplotlib.pyplot as plt \n",
    "import pytorch_lightning as pl\n",
    "from model import *\n",
    "from pathlib import Path\n",
    "from module import * \n",
    "import altair as alt\n",
    "from pytorch_lightning.callbacks.progress import TQDMProgressBar\n",
    "import torch \n",
    "from pytorch_lightning.callbacks.early_stopping import EarlyStopping\n",
    "import argparse\n",
    "import numpy as np\n",
    "from pytorch_lightning.callbacks import ModelCheckpoint\n",
    "from  pytorch_lightning.loggers.tensorboard import TensorBoardLogger"
   ]
  },
  {
   "cell_type": "code",
   "execution_count": null,
   "metadata": {},
   "outputs": [],
   "source": [
    "p_concept_large = '/data1/shared/jessica/data1/data/toyota/ckpts/ckpts_desiredcomma_distance/lightning_logs/version_36/distance.csv'\n",
    "df = pd.read_csv(p_concept_large, header=None)\n",
    "df.columns = ['preds', 'targets']\n",
    "\n",
    "m = (df['targets'] > 40).astype(bool)  | (df['targets'] == 0).astype(bool) \n",
    "loss1 = torch.sqrt(mse_loss(torch.tensor(df['preds']),  torch.tensor(df['targets']), torch.tensor(m)))\n",
    "m = (df['targets'] > 50).astype(bool)  | (df['targets'] == 0).astype(bool) \n",
    "loss2 = torch.sqrt(mse_loss(torch.tensor(df['preds']),  torch.tensor(df['targets']), torch.tensor(m)))\n",
    "m = (df['targets'] > 60).astype(bool)  | (df['targets'] == 0).astype(bool) \n",
    "loss3 = torch.sqrt(mse_loss(torch.tensor(df['preds']),  torch.tensor(df['targets']), torch.tensor(m)))\n",
    "print(loss1.item(), loss2.item(), loss3.item())"
   ]
  },
  {
   "cell_type": "code",
   "execution_count": 15,
   "metadata": {},
   "outputs": [
    {
     "name": "stdout",
     "output_type": "stream",
     "text": [
      "140 nuscenes\n",
      "248 comma\n",
      "10 nuscenes\n",
      "25 comma\n",
      "70 nuscenes\n",
      "14 comma\n"
     ]
    }
   ],
   "source": [
    "\n",
    "import pandas as pd\n",
    "import sys\n",
    "sys.path.append(\"../\")\n",
    "import matplotlib.pyplot as plt \n",
    "import pytorch_lightning as pl\n",
    "from model import *\n",
    "from pathlib import Path\n",
    "from module import * \n",
    "import altair as alt\n",
    "from pytorch_lightning.callbacks.progress import TQDMProgressBar\n",
    "import torch \n",
    "from pytorch_lightning.callbacks.early_stopping import EarlyStopping\n",
    "import argparse\n",
    "import numpy as np\n",
    "from pytorch_lightning.callbacks import ModelCheckpoint\n",
    "from  pytorch_lightning.loggers.tensorboard import TensorBoardLogger\n",
    "import h5py\n",
    "dataset_type = 'train'\n",
    "for dataset_type in [\"train\", \"val\", \"test\"]:\n",
    "    data_path = '/data1/jessica/data/toyota/nuscenes/test_mini_nuscenes.hfd5' if dataset_type == \"val\" else ('/data1/jessica/data/toyota/nuscenes/train_consec_nuscenes.hfd5' if dataset_type == \"train\" else '/data1/jessica/data/toyota/nuscenes/train_2_2_consec_nuscenes.hfd5')\n",
    "    \n",
    "    h5_file = h5py.File(data_path, \"r\")\n",
    "    keys = list(h5_file.keys())\n",
    "    person_seq = {}\n",
    "    print(len(keys), \"nuscenes\")\n",
    "    ground_truth = 'normal'\n",
    "    data_path = f\"/data1/jessica/data/toyota/comma_{dataset_type}_filtered.h5py\" if ground_truth == \"regular\" else f\"/data1/jessica/data/toyota/comma_{dataset_type}_w_desired_filtered.h5py\"\n",
    "    h5_file = h5py.File(data_path, \"r\")\n",
    "    keys = list(h5_file.keys())\n",
    "    person_seq = {}\n",
    "    print(len(keys), 'comma')\n",
    "    '''seq_key  = keys[26]\n",
    "    keys_ = h5_file[seq_key].keys()#'steering', 'brake', 'available_distance', 'image', 'utime', 'vehicle_speed'\n",
    "    file = h5_file\n",
    "\n",
    "    for key in keys_:   \n",
    "        if key == 'description': git pull \n",
    "        continue                    \n",
    "        seq = file[seq_key][key][()]\n",
    "        person_seq[key] = torch.from_numpy(np.array(seq).astype(float)).type(torch.float32)\n",
    "    sequences = person_seq'''"
   ]
  },
  {
   "attachments": {},
   "cell_type": "markdown",
   "metadata": {},
   "source": [
    "Analyze distance prediction error"
   ]
  },
  {
   "attachments": {},
   "cell_type": "markdown",
   "metadata": {},
   "source": [
    "Analyze error per person"
   ]
  },
  {
   "cell_type": "code",
   "execution_count": 16,
   "metadata": {},
   "outputs": [],
   "source": [
    "backbone = \"resnet\"\n",
    "dataset = \"comma\"\n",
    "bs = 1\n",
    "gpu_num = 2"
   ]
  },
  {
   "cell_type": "code",
   "execution_count": 17,
   "metadata": {},
   "outputs": [],
   "source": [
    "def mse_loss(input, target, mask, reduction=\"mean\"):\n",
    "        out = (input[~mask]-target[~mask])**2\n",
    "        return out.mean() if reduction == \"mean\" else out "
   ]
  },
  {
   "cell_type": "code",
   "execution_count": 18,
   "metadata": {},
   "outputs": [],
   "source": [
    "def calculate_loss(logits, angle, distance, multitask):\n",
    "        print(angle, distance, logits)\n",
    "        if multitask == \"multitask\":\n",
    "            logits_angle = torch.tensor([l[0] for l in logits])\n",
    "            logits_dist = torch.tensor([l[1] for l in logits])\n",
    "            mask = (distance > 40) | (distance == 0)\n",
    "            loss_angle = torch.sqrt(mse_loss(logits_angle.squeeze(), angle.squeeze(), mask))\n",
    "            loss_distance = torch.sqrt(mse_loss(logits_dist.squeeze(), distance.squeeze(), mask))\n",
    "            loss = loss_angle, loss_distance\n",
    "            return loss_angle, loss_distance\n",
    "        elif multitask == \"angle\":\n",
    "            mask = distance.squeeze() == 0.0 \n",
    "            loss = torch.sqrt(mse_loss(logits.squeeze(), angle.squeeze(), mask))\n",
    "            return loss\n",
    "        elif multitask == \"distance\":\n",
    "            mask = (distance > 40)  | (distance == 0)\n",
    "            loss = torch.sqrt(mse_loss(logits.squeeze(), angle.squeeze(), mask))\n",
    "            return loss"
   ]
  },
  {
   "cell_type": "code",
   "execution_count": 19,
   "metadata": {},
   "outputs": [],
   "source": [
    "ckpt_pth_angle = f\"/data1/jessica/data/toyota/ckpts/COMMA/checkpoints_comma_angle/lightning_logs/version_17/checkpoints/epoch=21-step=1694.ckpt\"\n",
    "ckpt_pth_distance = f\"/data1/jessica/data/toyota/ckpts/COMMA/checkpoints_comma_distance/lightning_logs/version_40/checkpoints/epoch=39-step=1960.ckpt\"\n",
    "ckpt_pth_multitask = f\"/data1/jessica/data/toyota/ckpts/COMMA/checkpoints_comma_multitask/lightning_logs/version_23/checkpoints/epoch=31-step=2464.ckpt\""
   ]
  },
  {
   "cell_type": "code",
   "execution_count": 20,
   "metadata": {},
   "outputs": [],
   "source": [
    "\n",
    "ckpt_pth_angle = f\"/data1/jessica/data/toyota/ckpts/ckpts_desiredcomma_distance/lightning_logs/version_0/checkpoints/epoch=21-step=5434.ckpt\"\n",
    "ckpt_pth_distance = f'/data1/jessica/data/toyota/ckpts/ckpts_desiredcomma_distance/lightning_logs/version_0/checkpoints/epoch=21-step=5434.ckpt'\n",
    "ckpt_pth_multitask = f'/data1/jessica/data/toyota/ckpts/ckpts_desiredcomma_multitask/lightning_logs/version_1/checkpoints/epoch=66-step=16549.ckpt'"
   ]
  },
  {
   "cell_type": "code",
   "execution_count": 21,
   "metadata": {},
   "outputs": [],
   "source": [
    "ckpt_pth_distance = '/data1/jessica/data/toyota/ckpts/ckpts_desiredcomma_distance/lightning_logs/version_18/checkpoints/epoch=49-step=6200.ckpt'\n",
    "ckpt_pth_distance1 = '/data1/jessica/data/toyota/ckpts/ckpts_desiredcomma_distance/lightning_logs/version_15/checkpoints/epoch=17-step=4446.ckpt'\n",
    "ckpt_pth_distance2 = '/data1/jessica/data/toyota/ckpts/ckpts_desiredcomma_distance/lightning_logs/version_7/checkpoints/epoch=17-step=2232.ckpt'"
   ]
  },
  {
   "cell_type": "code",
   "execution_count": 22,
   "metadata": {},
   "outputs": [],
   "source": [
    "def save_preds(logits, target, save_name, path):\n",
    "    df = pd.DataFrame()\n",
    "    df['logits'] = logits.squeeze().tolist()\n",
    "    df['target'] = target.squeeze().tolist()\n",
    "    df.to_csv(f'./{path}/{save_name}.csv', mode='a', index=False, header=False)"
   ]
  },
  {
   "cell_type": "code",
   "execution_count": 23,
   "metadata": {},
   "outputs": [],
   "source": [
    "p_concept = '/data1/jessica/data/toyota/ckpts/ckpts_desiredcomma_distance/lightning_logs/version_31/distance.csv'\n",
    "p_concept_resnet = '/data1/jessica/data/toyota/ckpts/ckpts_desiredcomma_distance/lightning_logs/version_30/distance.csv'\n",
    "p_resnet = '/data1/jessica/data/toyota/ckpts/ckpts_desiredcomma_distance/lightning_logs/version_27/distance.csv'\n",
    "ps = [p_concept, p_resnet, p_concept_resnet]\n",
    "\n"
   ]
  },
  {
   "cell_type": "code",
   "execution_count": 24,
   "metadata": {},
   "outputs": [
    {
     "ename": "FileNotFoundError",
     "evalue": "[Errno 2] No such file or directory: '/data1/shared/jessica/data1/data/toyota/ckpts/ckpts_desiredcomma_distance/lightning_logs/version_36/distance.csv'",
     "output_type": "error",
     "traceback": [
      "\u001b[0;31m---------------------------------------------------------------------------\u001b[0m",
      "\u001b[0;31mFileNotFoundError\u001b[0m                         Traceback (most recent call last)",
      "\u001b[1;32m/home/jessica/personalized_driving_toyota/analyse_results/analyze_results.ipynb Cell 13\u001b[0m in \u001b[0;36m2\n\u001b[1;32m      <a href='vscode-notebook-cell://ssh-remote%2Bdeepx.ucsd.edu/home/jessica/personalized_driving_toyota/analyse_results/analyze_results.ipynb#X14sdnNjb2RlLXJlbW90ZQ%3D%3D?line=0'>1</a>\u001b[0m p_concept_large \u001b[39m=\u001b[39m \u001b[39m'\u001b[39m\u001b[39m/data1/shared/jessica/data1/data/toyota/ckpts/ckpts_desiredcomma_distance/lightning_logs/version_36/distance.csv\u001b[39m\u001b[39m'\u001b[39m\n\u001b[0;32m----> <a href='vscode-notebook-cell://ssh-remote%2Bdeepx.ucsd.edu/home/jessica/personalized_driving_toyota/analyse_results/analyze_results.ipynb#X14sdnNjb2RlLXJlbW90ZQ%3D%3D?line=1'>2</a>\u001b[0m df \u001b[39m=\u001b[39m pd\u001b[39m.\u001b[39;49mread_csv(p_concept_large, header\u001b[39m=\u001b[39;49m\u001b[39mNone\u001b[39;49;00m)\n\u001b[1;32m      <a href='vscode-notebook-cell://ssh-remote%2Bdeepx.ucsd.edu/home/jessica/personalized_driving_toyota/analyse_results/analyze_results.ipynb#X14sdnNjb2RlLXJlbW90ZQ%3D%3D?line=2'>3</a>\u001b[0m df\u001b[39m.\u001b[39mcolumns \u001b[39m=\u001b[39m [\u001b[39m'\u001b[39m\u001b[39mpreds\u001b[39m\u001b[39m'\u001b[39m, \u001b[39m'\u001b[39m\u001b[39mtargets\u001b[39m\u001b[39m'\u001b[39m]\n\u001b[1;32m      <a href='vscode-notebook-cell://ssh-remote%2Bdeepx.ucsd.edu/home/jessica/personalized_driving_toyota/analyse_results/analyze_results.ipynb#X14sdnNjb2RlLXJlbW90ZQ%3D%3D?line=4'>5</a>\u001b[0m m \u001b[39m=\u001b[39m (df[\u001b[39m'\u001b[39m\u001b[39mtargets\u001b[39m\u001b[39m'\u001b[39m] \u001b[39m>\u001b[39m \u001b[39m40\u001b[39m)\u001b[39m.\u001b[39mastype(\u001b[39mbool\u001b[39m)  \u001b[39m|\u001b[39m (df[\u001b[39m'\u001b[39m\u001b[39mtargets\u001b[39m\u001b[39m'\u001b[39m] \u001b[39m==\u001b[39m \u001b[39m0\u001b[39m)\u001b[39m.\u001b[39mastype(\u001b[39mbool\u001b[39m) \n",
      "File \u001b[0;32m~/.local/lib/python3.10/site-packages/pandas/util/_decorators.py:211\u001b[0m, in \u001b[0;36mdeprecate_kwarg.<locals>._deprecate_kwarg.<locals>.wrapper\u001b[0;34m(*args, **kwargs)\u001b[0m\n\u001b[1;32m    209\u001b[0m     \u001b[39melse\u001b[39;00m:\n\u001b[1;32m    210\u001b[0m         kwargs[new_arg_name] \u001b[39m=\u001b[39m new_arg_value\n\u001b[0;32m--> 211\u001b[0m \u001b[39mreturn\u001b[39;00m func(\u001b[39m*\u001b[39;49margs, \u001b[39m*\u001b[39;49m\u001b[39m*\u001b[39;49mkwargs)\n",
      "File \u001b[0;32m~/.local/lib/python3.10/site-packages/pandas/util/_decorators.py:331\u001b[0m, in \u001b[0;36mdeprecate_nonkeyword_arguments.<locals>.decorate.<locals>.wrapper\u001b[0;34m(*args, **kwargs)\u001b[0m\n\u001b[1;32m    325\u001b[0m \u001b[39mif\u001b[39;00m \u001b[39mlen\u001b[39m(args) \u001b[39m>\u001b[39m num_allow_args:\n\u001b[1;32m    326\u001b[0m     warnings\u001b[39m.\u001b[39mwarn(\n\u001b[1;32m    327\u001b[0m         msg\u001b[39m.\u001b[39mformat(arguments\u001b[39m=\u001b[39m_format_argument_list(allow_args)),\n\u001b[1;32m    328\u001b[0m         \u001b[39mFutureWarning\u001b[39;00m,\n\u001b[1;32m    329\u001b[0m         stacklevel\u001b[39m=\u001b[39mfind_stack_level(),\n\u001b[1;32m    330\u001b[0m     )\n\u001b[0;32m--> 331\u001b[0m \u001b[39mreturn\u001b[39;00m func(\u001b[39m*\u001b[39;49margs, \u001b[39m*\u001b[39;49m\u001b[39m*\u001b[39;49mkwargs)\n",
      "File \u001b[0;32m~/.local/lib/python3.10/site-packages/pandas/io/parsers/readers.py:950\u001b[0m, in \u001b[0;36mread_csv\u001b[0;34m(filepath_or_buffer, sep, delimiter, header, names, index_col, usecols, squeeze, prefix, mangle_dupe_cols, dtype, engine, converters, true_values, false_values, skipinitialspace, skiprows, skipfooter, nrows, na_values, keep_default_na, na_filter, verbose, skip_blank_lines, parse_dates, infer_datetime_format, keep_date_col, date_parser, dayfirst, cache_dates, iterator, chunksize, compression, thousands, decimal, lineterminator, quotechar, quoting, doublequote, escapechar, comment, encoding, encoding_errors, dialect, error_bad_lines, warn_bad_lines, on_bad_lines, delim_whitespace, low_memory, memory_map, float_precision, storage_options)\u001b[0m\n\u001b[1;32m    935\u001b[0m kwds_defaults \u001b[39m=\u001b[39m _refine_defaults_read(\n\u001b[1;32m    936\u001b[0m     dialect,\n\u001b[1;32m    937\u001b[0m     delimiter,\n\u001b[0;32m   (...)\u001b[0m\n\u001b[1;32m    946\u001b[0m     defaults\u001b[39m=\u001b[39m{\u001b[39m\"\u001b[39m\u001b[39mdelimiter\u001b[39m\u001b[39m\"\u001b[39m: \u001b[39m\"\u001b[39m\u001b[39m,\u001b[39m\u001b[39m\"\u001b[39m},\n\u001b[1;32m    947\u001b[0m )\n\u001b[1;32m    948\u001b[0m kwds\u001b[39m.\u001b[39mupdate(kwds_defaults)\n\u001b[0;32m--> 950\u001b[0m \u001b[39mreturn\u001b[39;00m _read(filepath_or_buffer, kwds)\n",
      "File \u001b[0;32m~/.local/lib/python3.10/site-packages/pandas/io/parsers/readers.py:605\u001b[0m, in \u001b[0;36m_read\u001b[0;34m(filepath_or_buffer, kwds)\u001b[0m\n\u001b[1;32m    602\u001b[0m _validate_names(kwds\u001b[39m.\u001b[39mget(\u001b[39m\"\u001b[39m\u001b[39mnames\u001b[39m\u001b[39m\"\u001b[39m, \u001b[39mNone\u001b[39;00m))\n\u001b[1;32m    604\u001b[0m \u001b[39m# Create the parser.\u001b[39;00m\n\u001b[0;32m--> 605\u001b[0m parser \u001b[39m=\u001b[39m TextFileReader(filepath_or_buffer, \u001b[39m*\u001b[39;49m\u001b[39m*\u001b[39;49mkwds)\n\u001b[1;32m    607\u001b[0m \u001b[39mif\u001b[39;00m chunksize \u001b[39mor\u001b[39;00m iterator:\n\u001b[1;32m    608\u001b[0m     \u001b[39mreturn\u001b[39;00m parser\n",
      "File \u001b[0;32m~/.local/lib/python3.10/site-packages/pandas/io/parsers/readers.py:1442\u001b[0m, in \u001b[0;36mTextFileReader.__init__\u001b[0;34m(self, f, engine, **kwds)\u001b[0m\n\u001b[1;32m   1439\u001b[0m     \u001b[39mself\u001b[39m\u001b[39m.\u001b[39moptions[\u001b[39m\"\u001b[39m\u001b[39mhas_index_names\u001b[39m\u001b[39m\"\u001b[39m] \u001b[39m=\u001b[39m kwds[\u001b[39m\"\u001b[39m\u001b[39mhas_index_names\u001b[39m\u001b[39m\"\u001b[39m]\n\u001b[1;32m   1441\u001b[0m \u001b[39mself\u001b[39m\u001b[39m.\u001b[39mhandles: IOHandles \u001b[39m|\u001b[39m \u001b[39mNone\u001b[39;00m \u001b[39m=\u001b[39m \u001b[39mNone\u001b[39;00m\n\u001b[0;32m-> 1442\u001b[0m \u001b[39mself\u001b[39m\u001b[39m.\u001b[39m_engine \u001b[39m=\u001b[39m \u001b[39mself\u001b[39;49m\u001b[39m.\u001b[39;49m_make_engine(f, \u001b[39mself\u001b[39;49m\u001b[39m.\u001b[39;49mengine)\n",
      "File \u001b[0;32m~/.local/lib/python3.10/site-packages/pandas/io/parsers/readers.py:1735\u001b[0m, in \u001b[0;36mTextFileReader._make_engine\u001b[0;34m(self, f, engine)\u001b[0m\n\u001b[1;32m   1733\u001b[0m     \u001b[39mif\u001b[39;00m \u001b[39m\"\u001b[39m\u001b[39mb\u001b[39m\u001b[39m\"\u001b[39m \u001b[39mnot\u001b[39;00m \u001b[39min\u001b[39;00m mode:\n\u001b[1;32m   1734\u001b[0m         mode \u001b[39m+\u001b[39m\u001b[39m=\u001b[39m \u001b[39m\"\u001b[39m\u001b[39mb\u001b[39m\u001b[39m\"\u001b[39m\n\u001b[0;32m-> 1735\u001b[0m \u001b[39mself\u001b[39m\u001b[39m.\u001b[39mhandles \u001b[39m=\u001b[39m get_handle(\n\u001b[1;32m   1736\u001b[0m     f,\n\u001b[1;32m   1737\u001b[0m     mode,\n\u001b[1;32m   1738\u001b[0m     encoding\u001b[39m=\u001b[39;49m\u001b[39mself\u001b[39;49m\u001b[39m.\u001b[39;49moptions\u001b[39m.\u001b[39;49mget(\u001b[39m\"\u001b[39;49m\u001b[39mencoding\u001b[39;49m\u001b[39m\"\u001b[39;49m, \u001b[39mNone\u001b[39;49;00m),\n\u001b[1;32m   1739\u001b[0m     compression\u001b[39m=\u001b[39;49m\u001b[39mself\u001b[39;49m\u001b[39m.\u001b[39;49moptions\u001b[39m.\u001b[39;49mget(\u001b[39m\"\u001b[39;49m\u001b[39mcompression\u001b[39;49m\u001b[39m\"\u001b[39;49m, \u001b[39mNone\u001b[39;49;00m),\n\u001b[1;32m   1740\u001b[0m     memory_map\u001b[39m=\u001b[39;49m\u001b[39mself\u001b[39;49m\u001b[39m.\u001b[39;49moptions\u001b[39m.\u001b[39;49mget(\u001b[39m\"\u001b[39;49m\u001b[39mmemory_map\u001b[39;49m\u001b[39m\"\u001b[39;49m, \u001b[39mFalse\u001b[39;49;00m),\n\u001b[1;32m   1741\u001b[0m     is_text\u001b[39m=\u001b[39;49mis_text,\n\u001b[1;32m   1742\u001b[0m     errors\u001b[39m=\u001b[39;49m\u001b[39mself\u001b[39;49m\u001b[39m.\u001b[39;49moptions\u001b[39m.\u001b[39;49mget(\u001b[39m\"\u001b[39;49m\u001b[39mencoding_errors\u001b[39;49m\u001b[39m\"\u001b[39;49m, \u001b[39m\"\u001b[39;49m\u001b[39mstrict\u001b[39;49m\u001b[39m\"\u001b[39;49m),\n\u001b[1;32m   1743\u001b[0m     storage_options\u001b[39m=\u001b[39;49m\u001b[39mself\u001b[39;49m\u001b[39m.\u001b[39;49moptions\u001b[39m.\u001b[39;49mget(\u001b[39m\"\u001b[39;49m\u001b[39mstorage_options\u001b[39;49m\u001b[39m\"\u001b[39;49m, \u001b[39mNone\u001b[39;49;00m),\n\u001b[1;32m   1744\u001b[0m )\n\u001b[1;32m   1745\u001b[0m \u001b[39massert\u001b[39;00m \u001b[39mself\u001b[39m\u001b[39m.\u001b[39mhandles \u001b[39mis\u001b[39;00m \u001b[39mnot\u001b[39;00m \u001b[39mNone\u001b[39;00m\n\u001b[1;32m   1746\u001b[0m f \u001b[39m=\u001b[39m \u001b[39mself\u001b[39m\u001b[39m.\u001b[39mhandles\u001b[39m.\u001b[39mhandle\n",
      "File \u001b[0;32m~/.local/lib/python3.10/site-packages/pandas/io/common.py:856\u001b[0m, in \u001b[0;36mget_handle\u001b[0;34m(path_or_buf, mode, encoding, compression, memory_map, is_text, errors, storage_options)\u001b[0m\n\u001b[1;32m    851\u001b[0m \u001b[39melif\u001b[39;00m \u001b[39misinstance\u001b[39m(handle, \u001b[39mstr\u001b[39m):\n\u001b[1;32m    852\u001b[0m     \u001b[39m# Check whether the filename is to be opened in binary mode.\u001b[39;00m\n\u001b[1;32m    853\u001b[0m     \u001b[39m# Binary mode does not support 'encoding' and 'newline'.\u001b[39;00m\n\u001b[1;32m    854\u001b[0m     \u001b[39mif\u001b[39;00m ioargs\u001b[39m.\u001b[39mencoding \u001b[39mand\u001b[39;00m \u001b[39m\"\u001b[39m\u001b[39mb\u001b[39m\u001b[39m\"\u001b[39m \u001b[39mnot\u001b[39;00m \u001b[39min\u001b[39;00m ioargs\u001b[39m.\u001b[39mmode:\n\u001b[1;32m    855\u001b[0m         \u001b[39m# Encoding\u001b[39;00m\n\u001b[0;32m--> 856\u001b[0m         handle \u001b[39m=\u001b[39m \u001b[39mopen\u001b[39;49m(\n\u001b[1;32m    857\u001b[0m             handle,\n\u001b[1;32m    858\u001b[0m             ioargs\u001b[39m.\u001b[39;49mmode,\n\u001b[1;32m    859\u001b[0m             encoding\u001b[39m=\u001b[39;49mioargs\u001b[39m.\u001b[39;49mencoding,\n\u001b[1;32m    860\u001b[0m             errors\u001b[39m=\u001b[39;49merrors,\n\u001b[1;32m    861\u001b[0m             newline\u001b[39m=\u001b[39;49m\u001b[39m\"\u001b[39;49m\u001b[39m\"\u001b[39;49m,\n\u001b[1;32m    862\u001b[0m         )\n\u001b[1;32m    863\u001b[0m     \u001b[39melse\u001b[39;00m:\n\u001b[1;32m    864\u001b[0m         \u001b[39m# Binary mode\u001b[39;00m\n\u001b[1;32m    865\u001b[0m         handle \u001b[39m=\u001b[39m \u001b[39mopen\u001b[39m(handle, ioargs\u001b[39m.\u001b[39mmode)\n",
      "\u001b[0;31mFileNotFoundError\u001b[0m: [Errno 2] No such file or directory: '/data1/shared/jessica/data1/data/toyota/ckpts/ckpts_desiredcomma_distance/lightning_logs/version_36/distance.csv'"
     ]
    }
   ],
   "source": [
    "p_concept_large = '/data1/shared/jessica/data1/data/toyota/ckpts/ckpts_desiredcomma_distance/lightning_logs/version_36/distance.csv'\n",
    "df = pd.read_csv(p_concept_large, header=None)\n",
    "df.columns = ['preds', 'targets']\n",
    "\n",
    "m = (df['targets'] > 40).astype(bool)  | (df['targets'] == 0).astype(bool) \n",
    "loss1 = torch.sqrt(mse_loss(torch.tensor(df['preds']),  torch.tensor(df['targets']), torch.tensor(m)))\n",
    "m = (df['targets'] > 50).astype(bool)  | (df['targets'] == 0).astype(bool) \n",
    "loss2 = torch.sqrt(mse_loss(torch.tensor(df['preds']),  torch.tensor(df['targets']), torch.tensor(m)))\n",
    "m = (df['targets'] > 60).astype(bool)  | (df['targets'] == 0).astype(bool) \n",
    "loss3 = torch.sqrt(mse_loss(torch.tensor(df['preds']),  torch.tensor(df['targets']), torch.tensor(m)))\n",
    "print(loss1.item(), loss2.item(), loss3.item())"
   ]
  },
  {
   "cell_type": "code",
   "execution_count": null,
   "metadata": {},
   "outputs": [
    {
     "name": "stdout",
     "output_type": "stream",
     "text": [
      "/data1/shared/jessica/data3/data/toyota/ckpts/ckpts_desirednuscenes_distance/lightning_logs/version_6/distance.csv\n",
      "36.79368501504144 35.433464632569866 35.433464632569866\n",
      "/data1/shared/jessica/data3/data/toyota/ckpts/ckpts_desirednuscenes_distance/lightning_logs/version_9/distance.csv\n",
      "4.920719823763321 4.603851242851172 4.603851242851172\n",
      "/data1/shared/jessica/data3/data/toyota/ckpts/ckpts_desirednuscenes_distance/lightning_logs/version_7/distance.csv\n",
      "5.919740686602585 6.826350849408017 6.826350849408017\n"
     ]
    }
   ],
   "source": [
    "p_concept = '/data1/shared/jessica/data3/data/toyota/ckpts/ckpts_desirednuscenes_distance/lightning_logs/version_6/distance.csv'\n",
    "p_concept_resnet = '/data1/shared/jessica/data3/data/toyota/ckpts/ckpts_desirednuscenes_distance/lightning_logs/version_7/distance.csv'\n",
    "p_resnet = '/data1/shared/jessica/data3/data/toyota/ckpts/ckpts_desirednuscenes_distance/lightning_logs/version_9/distance.csv'\n",
    "ps = [p_concept, p_resnet, p_concept_resnet]\n",
    "for p in ps: \n",
    "    print(p)\n",
    "    df = pd.read_csv(p, header=None)\n",
    "    df.columns = ['preds', 'targets']\n",
    "\n",
    "    m = (df['targets'] > 40).astype(bool)  | (df['targets'] == 0).astype(bool) \n",
    "    loss1 = torch.sqrt(mse_loss(torch.tensor(df['preds']),  torch.tensor(df['targets']), torch.tensor(m)))\n",
    "    m = (df['targets'] > 50).astype(bool)  | (df['targets'] == 0).astype(bool) \n",
    "    loss2 = torch.sqrt(mse_loss(torch.tensor(df['preds']),  torch.tensor(df['targets']), torch.tensor(m)))\n",
    "    m = (df['targets'] > 60).astype(bool)  | (df['targets'] == 0).astype(bool) \n",
    "    loss3 = torch.sqrt(mse_loss(torch.tensor(df['preds']),  torch.tensor(df['targets']), torch.tensor(m)))\n",
    "    print(loss1.item(), loss2.item(), loss3.item())\n"
   ]
  },
  {
   "cell_type": "code",
   "execution_count": null,
   "metadata": {},
   "outputs": [
    {
     "data": {
      "text/plain": [
       "(3.2874232541193598, 3.749491704008395, 4.153374738864876)"
      ]
     },
     "execution_count": 23,
     "metadata": {},
     "output_type": "execute_result"
    }
   ],
   "source": [
    "loss1.item(), loss2.item(), loss3.item()#dist multi"
   ]
  },
  {
   "cell_type": "code",
   "execution_count": null,
   "metadata": {},
   "outputs": [
    {
     "data": {
      "text/plain": [
       "(5.878825255118932, 5.849154661705669, 8.071627335371298)"
      ]
     },
     "execution_count": 43,
     "metadata": {},
     "output_type": "execute_result"
    }
   ],
   "source": [
    "loss1.item(), loss2.item(), loss3.item()#dist"
   ]
  },
  {
   "cell_type": "code",
   "execution_count": null,
   "metadata": {},
   "outputs": [
    {
     "data": {
      "text/plain": [
       "Text(0, 0.5, 'RMSE')"
      ]
     },
     "execution_count": 12,
     "metadata": {},
     "output_type": "execute_result"
    },
    {
     "data": {
      "image/png": "[encoded data removed]",
      "text/plain": [
       "<Figure size 640x480 with 1 Axes>"
      ]
     },
     "metadata": {},
     "output_type": "display_data"
    }
   ],
   "source": [
    "plt.plot([\"<40\", \"<50\", \"<60\"], [loss1.item(), loss2.item(), loss3.item()])\n",
    "plt.xlabel(\"Distance\")\n",
    "plt.ylabel(\"RMSE\")"
   ]
  },
  {
   "cell_type": "code",
   "execution_count": null,
   "metadata": {},
   "outputs": [],
   "source": [
    "res = {}"
   ]
  },
  {
   "cell_type": "code",
   "execution_count": null,
   "metadata": {},
   "outputs": [
    {
     "name": "stderr",
     "output_type": "stream",
     "text": [
      "GPU available: True (cuda), used: True\n",
      "TPU available: False, using: 0 TPU cores\n",
      "IPU available: False, using: 0 IPUs\n",
      "HPU available: False, using: 0 HPUs\n",
      "Restoring states from the checkpoint path at /data1/jessica/data/toyota/ckpts/ckpts_desiredcomma_multitask/lightning_logs/version_1/checkpoints/epoch=66-step=16549.ckpt\n",
      "LOCAL_RANK: 0 - CUDA_VISIBLE_DEVICES: [0,1,2,3]\n",
      "Loaded model weights from checkpoint at /data1/jessica/data/toyota/ckpts/ckpts_desiredcomma_multitask/lightning_logs/version_1/checkpoints/epoch=66-step=16549.ckpt\n"
     ]
    },
    {
     "data": {
      "application/vnd.jupyter.widget-view+json": {
       "model_id": "87c04417981347adac0786d36cdfa72e",
       "version_major": 2,
       "version_minor": 0
      },
      "text/plain": [
       "Predicting: 0it [00:00, ?it/s]"
      ]
     },
     "metadata": {},
     "output_type": "display_data"
    },
    {
     "name": "stdout",
     "output_type": "stream",
     "text": [
      "torch.Size([230, 2]) torch.Size([230]) torch.Size([230])\n",
      "tensor([ -0.4000,  -0.4000,  -0.4000,  -0.4000,  -0.4000,  -0.4000,  -0.4000,\n",
      "         -0.4000,  -0.4000,  -0.4000,  -0.4000,  -0.4000,  -0.4000,  -0.4000,\n",
      "         -0.4000,  -0.4000,  -0.4000,  -0.4000,  -0.4000,  -0.4000,  -0.4000,\n",
      "         -0.4000,  -0.4000,  -0.4000,  -0.4000,  -0.4000,  -0.5000,  -0.5000,\n",
      "         -0.5000,  -0.5000,  -0.5000,  -0.5000,  -0.5000,  -0.5000,  -0.5000,\n",
      "         -0.7000,  -2.0000,  -1.9000,  -1.9000,  -1.9000,  -1.9000,  -1.5000,\n",
      "         -0.7000,   0.0000,   1.9000,   2.0000,   2.0000,   2.0000,   1.9000,\n",
      "          1.7000,   1.4000,   1.1000,   0.6000,  -2.5000,  -2.2000,  -1.8000,\n",
      "         -0.6000,  -0.1000,  -0.1000,   0.0000,   0.2000,   0.2000,   0.2000,\n",
      "          0.1000,   0.2000,   0.2000,   1.1000,   4.3000,   3.3000,   2.9000,\n",
      "          2.2000,   1.2000,   0.7000,   0.6000,   0.7000,  -1.0000,  -7.4000,\n",
      "         -8.1000,  -7.5000,  -7.5000,  -7.2000,  -7.0000,  -5.6000,   0.2000,\n",
      "          0.0000,  -1.0000,  -5.5000, -12.2000, -11.6000, -10.8000,  -9.4000,\n",
      "         -9.4000,  -8.7000,  -7.9000,  -7.1000,  -6.3000,  -5.6000,  -3.1000,\n",
      "         -1.4000,   0.7000,   0.8000,   0.4000,  -0.2000,  -0.4000,  -0.2000,\n",
      "          1.2000,   0.9000,   0.0000,  -0.5000,  -0.7000,   1.0000,   0.4000,\n",
      "         -1.9000,  -4.0000,  -6.6000,  -8.9000, -11.8000, -16.7000, -22.2000,\n",
      "        -22.9000, -22.9000, -21.5000, -17.8000, -16.6000, -11.8000,  -8.1000,\n",
      "         -5.7000,  -3.9000,  -2.1000,  -1.1000,  -1.9000,  -0.3000,  -0.3000,\n",
      "          0.0000,   1.4000,   0.1000,   1.4000,   0.8000,   0.2000,   0.9000,\n",
      "          0.4000,   0.4000,  -0.6000,  -0.3000,  -0.3000,  -0.4000,  -0.5000,\n",
      "         -0.5000,  -0.4000,  -0.6000,  -0.5000,  -0.6000,  -0.6000,  -0.6000,\n",
      "          0.1000,  -0.1000,  -0.1000,   0.2000,   0.0000,   0.0000,  -0.7000,\n",
      "         -0.1000,  -0.1000,  -0.1000,  -0.1000,  -0.1000,  -0.1000,  -0.1000,\n",
      "          0.1000,   0.2000,   0.2000,   0.2000,  -0.6000,  -0.2000,  -0.4000,\n",
      "         -0.4000,  -0.2000,  -0.2000,   0.0000,   0.2000,   0.2000,   0.2000,\n",
      "          0.1000,  -0.1000,  -0.1000,  -0.2000,  -0.1000,  -0.1000,  -0.1000,\n",
      "          0.0000,   0.0000,   0.1000,   0.2000,   0.2000,   0.1000,   0.2000,\n",
      "          0.4000,   0.7000,   0.5000,   0.5000,   0.4000,   0.4000,   0.4000,\n",
      "          0.4000,   0.1000,   0.2000,   0.3000,   0.4000,   1.0000,   0.6000,\n",
      "          0.6000,   0.4000,   0.6000,   0.3000,  -1.5000,  -0.8000,   0.0000,\n",
      "         -0.2000,  -0.2000,  -0.2000,  -0.2000,  -0.2000,  -0.2000,  -0.2000,\n",
      "         -0.2000,  -0.2000,  -0.2000,  -0.2000,  -0.2000,  -0.3000]) tensor([ 4.1867,  4.1867,  4.1867,  4.1867,  4.1867,  4.1867,  4.1867,  4.1867,\n",
      "         4.1733,  4.1733,  4.6533,  4.1800,  4.3200,  4.3400,  4.6400,  4.7467,\n",
      "         4.6800,  4.8200,  5.1800,  5.5400,  6.0000,  6.6400,  7.3200,  8.1800,\n",
      "         8.9200,  9.9200, 10.8000, 11.5000, 12.4000, 13.3000, 13.9200, 14.6400,\n",
      "        15.2600, 15.8400, 16.5600, 17.0000, 17.5800, 18.2000, 18.7000, 19.0600,\n",
      "        19.4400, 19.9000, 20.1800, 20.4800, 20.7600, 21.0600, 21.1600, 21.3200,\n",
      "        21.1600, 21.1600, 21.2000, 20.9600, 20.7800, 20.7200, 12.2200, 12.3200,\n",
      "        12.5600, 12.7800, 13.2200, 13.6200, 14.0000, 14.5200, 15.0600, 15.4400,\n",
      "        15.9800, 16.5600, 17.1400, 17.7000, 18.4000, 19.0600, 19.4600, 19.8200,\n",
      "        20.1800, 20.1400, 30.4800, 30.7600, 31.3200, 31.9800,  2.7600,  2.3600,\n",
      "        34.9000, 36.3800, 37.4400, 38.6400, 39.6800, 40.6400, 42.8800, 39.8600,\n",
      "        40.6600, 41.3600, 41.8800, 42.3800, 42.6400, 43.0000, 43.0400, 42.9200,\n",
      "        42.9200, 51.1600, 51.8400, 51.5200, 50.7200, 51.2800, 51.2533, 51.1467,\n",
      "        50.3800, 50.4400,  0.0000,  0.0000,  0.0000,  0.0000,  0.0000,  0.0000,\n",
      "         0.0000,  0.0000,  0.0000,  0.0000, 52.3200, 52.6400,  0.0000,  0.0000,\n",
      "         0.0000,  0.0000,  0.0000, 31.8000,  0.0000,  0.0000,  0.0000, 93.9200,\n",
      "        93.5600, 92.9200, 92.5200, 91.9200, 91.6000, 91.2400, 90.8400, 90.7600,\n",
      "        90.4800, 90.2000, 89.7200, 89.4800, 89.3200, 88.8400, 88.3600, 88.0000,\n",
      "        87.6800, 87.0800, 86.5600, 86.2800, 85.6000, 85.0400, 84.6000, 84.0000,\n",
      "        83.2800, 82.8400, 82.2800, 81.7600, 81.2400, 80.7200, 80.2400, 79.8000,\n",
      "        79.2800, 78.7200, 78.2800, 77.6800, 77.0400, 76.3600, 75.7200, 74.8400,\n",
      "        73.9600, 72.8800, 71.7600, 70.5200, 69.1600, 67.6400, 66.3600, 64.8800,\n",
      "        63.4400, 62.0800, 60.6400, 59.1600, 57.9600, 56.0400, 54.2400, 52.5200,\n",
      "        50.9200, 49.4800, 47.9200, 46.5400, 45.1600, 43.6400, 42.1600, 40.8200,\n",
      "        39.5000, 37.9800, 36.7000, 35.3400, 33.9400, 33.2667, 31.3400, 30.6533,\n",
      "        29.7067, 27.7800, 26.6400, 25.5600, 24.5600, 23.7600, 22.8600, 22.1800,\n",
      "        21.5400, 21.0000, 20.5600, 20.1800, 19.8400, 19.5400, 19.2400, 19.1400,\n",
      "        19.0200, 19.0000, 19.1200, 19.2800, 19.5800, 19.9800, 20.4400, 21.0200,\n",
      "        21.6200, 22.4200, 23.1600, 24.0200, 24.9200, 25.8600]) tensor([[-3.3159e-01,  4.3733e+00],\n",
      "        [-3.4011e-01,  4.2956e+00],\n",
      "        [-3.2500e-01,  4.2796e+00],\n",
      "        [-3.2086e-01,  4.2928e+00],\n",
      "        [-2.8163e-01,  4.3237e+00],\n",
      "        [-3.4914e-01,  4.3457e+00],\n",
      "        [-3.5776e-01,  4.3932e+00],\n",
      "        [-3.2723e-01,  4.4221e+00],\n",
      "        [-3.3293e-01,  4.4024e+00],\n",
      "        [-3.7235e-01,  4.3710e+00],\n",
      "        [-4.0518e-01,  4.2823e+00],\n",
      "        [-4.7379e-01,  4.3365e+00],\n",
      "        [-5.4134e-01,  4.2220e+00],\n",
      "        [-6.9996e-01,  4.2068e+00],\n",
      "        [-7.9760e-01,  4.3632e+00],\n",
      "        [-8.3545e-01,  4.5500e+00],\n",
      "        [-9.6482e-01,  4.5144e+00],\n",
      "        [-1.0339e+00,  4.5783e+00],\n",
      "        [-1.0579e+00,  4.5559e+00],\n",
      "        [-1.0774e+00,  4.9145e+00],\n",
      "        [-9.9925e-01,  5.2232e+00],\n",
      "        [-8.0886e-01,  5.4579e+00],\n",
      "        [-8.3821e-01,  5.8415e+00],\n",
      "        [-7.8098e-01,  6.1687e+00],\n",
      "        [-5.4960e-01,  6.6951e+00],\n",
      "        [-4.2289e-01,  7.0473e+00],\n",
      "        [-1.5243e-01,  7.4483e+00],\n",
      "        [-9.4491e-02,  7.8764e+00],\n",
      "        [-1.0875e-01,  8.6785e+00],\n",
      "        [-1.5476e-01,  9.2625e+00],\n",
      "        [-3.9966e-02,  9.6788e+00],\n",
      "        [-7.9270e-02,  1.0203e+01],\n",
      "        [-1.4190e-02,  1.0613e+01],\n",
      "        [-1.0844e-01,  1.0905e+01],\n",
      "        [ 6.2401e-03,  1.1431e+01],\n",
      "        [ 1.7393e-01,  1.2049e+01],\n",
      "        [ 2.5783e-01,  1.2374e+01],\n",
      "        [ 1.1648e-01,  1.2858e+01],\n",
      "        [-1.4651e-01,  1.3334e+01],\n",
      "        [-1.6663e-01,  1.3894e+01],\n",
      "        [-3.1625e-01,  1.4948e+01],\n",
      "        [-4.4697e-01,  1.5142e+01],\n",
      "        [-7.5181e-01,  1.5485e+01],\n",
      "        [-6.6432e-01,  1.5688e+01],\n",
      "        [-4.3611e-01,  1.6359e+01],\n",
      "        [-1.7285e-01,  1.6057e+01],\n",
      "        [ 3.5276e-01,  1.5709e+01],\n",
      "        [ 9.6543e-01,  1.6096e+01],\n",
      "        [ 1.6916e+00,  1.6198e+01],\n",
      "        [ 2.0602e+00,  1.6820e+01],\n",
      "        [ 2.2778e+00,  1.7326e+01],\n",
      "        [ 2.1656e+00,  1.7066e+01],\n",
      "        [ 2.0475e+00,  1.7008e+01],\n",
      "        [ 1.7442e+00,  1.6941e+01],\n",
      "        [ 1.6894e+00,  1.6252e+01],\n",
      "        [ 6.8096e-01,  1.5732e+01],\n",
      "        [ 2.5554e-01,  1.4340e+01],\n",
      "        [-2.3747e-01,  1.2475e+01],\n",
      "        [-2.0153e-01,  1.0638e+01],\n",
      "        [-2.2003e-01,  1.0405e+01],\n",
      "        [ 2.6498e-02,  1.0006e+01],\n",
      "        [ 4.0398e-01,  1.0103e+01],\n",
      "        [ 8.7870e-01,  1.0853e+01],\n",
      "        [ 8.7403e-01,  1.1407e+01],\n",
      "        [ 8.4513e-01,  1.2031e+01],\n",
      "        [ 7.7283e-01,  1.2317e+01],\n",
      "        [ 1.0008e+00,  1.2408e+01],\n",
      "        [ 1.0571e+00,  1.2123e+01],\n",
      "        [ 9.3062e-01,  1.2190e+01],\n",
      "        [ 1.6194e+00,  1.2771e+01],\n",
      "        [ 1.8428e+00,  1.2476e+01],\n",
      "        [ 2.0248e+00,  1.3984e+01],\n",
      "        [ 2.4004e+00,  1.4891e+01],\n",
      "        [ 1.9480e+00,  1.5875e+01],\n",
      "        [ 1.4327e+00,  1.6931e+01],\n",
      "        [ 1.4158e+00,  1.7870e+01],\n",
      "        [ 1.1466e+00,  1.8475e+01],\n",
      "        [ 5.1802e-01,  1.9169e+01],\n",
      "        [-1.3329e+00,  2.0942e+01],\n",
      "        [-2.7083e+00,  2.1970e+01],\n",
      "        [-4.9893e+00,  2.1180e+01],\n",
      "        [-6.4186e+00,  2.0479e+01],\n",
      "        [-6.7623e+00,  1.9504e+01],\n",
      "        [-7.0724e+00,  2.1098e+01],\n",
      "        [-7.0493e+00,  2.2863e+01],\n",
      "        [-6.3796e+00,  2.4282e+01],\n",
      "        [-5.4724e+00,  2.7909e+01],\n",
      "        [-5.0484e+00,  3.0529e+01],\n",
      "        [-4.6981e+00,  3.4422e+01],\n",
      "        [-5.2039e+00,  3.5301e+01],\n",
      "        [-6.0616e+00,  3.9774e+01],\n",
      "        [-6.6692e+00,  4.4268e+01],\n",
      "        [-8.1485e+00,  5.1947e+01],\n",
      "        [-8.5564e+00,  5.3944e+01],\n",
      "        [-8.3468e+00,  5.4191e+01],\n",
      "        [-7.7391e+00,  4.9935e+01],\n",
      "        [-7.8846e+00,  4.9775e+01],\n",
      "        [-7.6388e+00,  4.9900e+01],\n",
      "        [-6.6528e+00,  4.6461e+01],\n",
      "        [-6.2544e+00,  4.7124e+01],\n",
      "        [-4.5940e+00,  4.8015e+01],\n",
      "        [-3.5154e+00,  4.9571e+01],\n",
      "        [-3.0429e+00,  4.7921e+01],\n",
      "        [-2.1001e+00,  4.9767e+01],\n",
      "        [-1.5424e+00,  5.2151e+01],\n",
      "        [-1.3744e+00,  5.2994e+01],\n",
      "        [-8.9362e-01,  5.4446e+01],\n",
      "        [-5.7374e-01,  5.4294e+01],\n",
      "        [ 4.2305e-01,  3.7937e+01],\n",
      "        [ 6.3173e-01,  3.1656e+01],\n",
      "        [ 6.9330e-01,  2.8492e+01],\n",
      "        [ 3.6880e-01,  3.1996e+01],\n",
      "        [ 1.1618e+00,  1.3827e+01],\n",
      "        [ 1.1183e+00,  1.1754e+01],\n",
      "        [-2.5022e-01,  1.3487e+01],\n",
      "        [-4.4941e-01,  9.9531e+00],\n",
      "        [-1.5727e+00,  7.0332e+00],\n",
      "        [-3.3956e+00,  8.3105e+00],\n",
      "        [-7.4176e+00,  2.0791e+01],\n",
      "        [-1.0403e+01,  3.1994e+01],\n",
      "        [-1.8217e+01,  3.4867e+01],\n",
      "        [-1.8749e+01,  3.1640e+01],\n",
      "        [-1.9427e+01,  3.2885e+01],\n",
      "        [-1.9836e+01,  3.1210e+01],\n",
      "        [-2.1442e+01,  2.7966e+01],\n",
      "        [-1.9079e+01,  2.6668e+01],\n",
      "        [-1.9377e+01,  3.0555e+01],\n",
      "        [-1.7442e+01,  2.8968e+01],\n",
      "        [-1.5646e+01,  3.2158e+01],\n",
      "        [-1.1041e+01,  4.7748e+01],\n",
      "        [-5.8617e+00,  6.2649e+01],\n",
      "        [-4.1282e+00,  6.5041e+01],\n",
      "        [-3.2486e+00,  6.7993e+01],\n",
      "        [-2.2697e+00,  6.9637e+01],\n",
      "        [-1.4532e+00,  7.0602e+01],\n",
      "        [-8.4478e-01,  7.0947e+01],\n",
      "        [-4.0976e-01,  7.2489e+01],\n",
      "        [-1.8503e-01,  7.4312e+01],\n",
      "        [ 3.8485e-01,  7.2722e+01],\n",
      "        [ 5.3189e-01,  7.4421e+01],\n",
      "        [ 6.0487e-01,  7.3910e+01],\n",
      "        [ 9.2324e-01,  7.3175e+01],\n",
      "        [ 8.7235e-01,  7.2650e+01],\n",
      "        [ 6.5334e-01,  7.2487e+01],\n",
      "        [ 3.5686e-01,  7.1771e+01],\n",
      "        [ 1.5165e-01,  7.3506e+01],\n",
      "        [-2.9815e-01,  7.6190e+01],\n",
      "        [-2.5422e-01,  7.2136e+01],\n",
      "        [-4.9324e-01,  7.3424e+01],\n",
      "        [-7.0093e-01,  7.5536e+01],\n",
      "        [-6.4614e-01,  7.2009e+01],\n",
      "        [-5.8703e-01,  7.3718e+01],\n",
      "        [-7.5147e-01,  7.2396e+01],\n",
      "        [-9.7122e-01,  7.1616e+01],\n",
      "        [-9.1446e-01,  7.1851e+01],\n",
      "        [-9.5679e-01,  7.2285e+01],\n",
      "        [-9.1676e-01,  7.1616e+01],\n",
      "        [-8.7880e-01,  7.0752e+01],\n",
      "        [-8.6137e-01,  6.9441e+01],\n",
      "        [-7.1893e-01,  7.0638e+01],\n",
      "        [-7.9708e-01,  7.1902e+01],\n",
      "        [-8.5105e-01,  6.9981e+01],\n",
      "        [-9.7688e-01,  6.8416e+01],\n",
      "        [-7.5873e-01,  7.0757e+01],\n",
      "        [-8.8783e-01,  6.9301e+01],\n",
      "        [-5.2996e-01,  6.7235e+01],\n",
      "        [-5.7113e-01,  6.6804e+01],\n",
      "        [-5.0514e-01,  6.6912e+01],\n",
      "        [-5.7909e-01,  6.6289e+01],\n",
      "        [-6.4036e-01,  6.5863e+01],\n",
      "        [-7.2021e-01,  6.6589e+01],\n",
      "        [-6.8446e-01,  6.7138e+01],\n",
      "        [-6.2433e-01,  6.9928e+01],\n",
      "        [-1.5376e-01,  6.8071e+01],\n",
      "        [-5.0428e-01,  6.8068e+01],\n",
      "        [-2.1685e-01,  6.6023e+01],\n",
      "        [ 1.5940e-03,  6.4789e+01],\n",
      "        [-2.6937e-01,  6.2881e+01],\n",
      "        [-2.0590e-01,  6.1301e+01],\n",
      "        [-2.0388e-01,  6.1015e+01],\n",
      "        [-5.6392e-01,  6.0346e+01],\n",
      "        [-5.3828e-01,  5.9668e+01],\n",
      "        [-4.6089e-01,  6.1077e+01],\n",
      "        [-2.6759e-01,  5.9646e+01],\n",
      "        [-3.9885e-01,  5.6020e+01],\n",
      "        [-5.3713e-01,  5.3150e+01],\n",
      "        [-3.8752e-01,  4.8480e+01],\n",
      "        [-5.4970e-01,  4.7873e+01],\n",
      "        [-7.9266e-01,  4.7160e+01],\n",
      "        [-7.7316e-01,  4.4956e+01],\n",
      "        [-6.7946e-01,  4.5160e+01],\n",
      "        [-5.9064e-01,  4.4949e+01],\n",
      "        [-4.8242e-01,  4.2867e+01],\n",
      "        [-3.6671e-01,  4.1943e+01],\n",
      "        [-4.0811e-02,  3.9993e+01],\n",
      "        [ 2.6096e-01,  3.6839e+01],\n",
      "        [ 2.8402e-01,  3.6252e+01],\n",
      "        [ 4.6453e-01,  3.3579e+01],\n",
      "        [ 4.4751e-01,  3.0029e+01],\n",
      "        [ 4.1911e-01,  2.7852e+01],\n",
      "        [ 4.2288e-01,  2.5958e+01],\n",
      "        [ 5.3611e-01,  2.5195e+01],\n",
      "        [ 4.9156e-01,  2.4181e+01],\n",
      "        [ 3.5948e-01,  2.2810e+01],\n",
      "        [ 3.5958e-01,  2.2167e+01],\n",
      "        [ 3.7876e-01,  2.1028e+01],\n",
      "        [ 3.3655e-01,  2.0385e+01],\n",
      "        [ 3.3771e-01,  1.9673e+01],\n",
      "        [ 4.6042e-01,  1.8765e+01],\n",
      "        [ 3.3771e-01,  1.8663e+01],\n",
      "        [ 5.0567e-01,  1.7852e+01],\n",
      "        [ 6.4319e-01,  1.7713e+01],\n",
      "        [ 6.8005e-01,  1.6995e+01],\n",
      "        [ 8.2903e-01,  1.6789e+01],\n",
      "        [ 8.6150e-01,  1.6966e+01],\n",
      "        [ 7.8227e-01,  1.6458e+01],\n",
      "        [ 4.7026e-01,  1.6101e+01],\n",
      "        [ 4.3517e-01,  1.5905e+01],\n",
      "        [ 3.8575e-01,  1.5874e+01],\n",
      "        [ 2.3789e-01,  1.5834e+01],\n",
      "        [ 1.3050e-01,  1.5938e+01],\n",
      "        [ 1.5871e-01,  1.6086e+01],\n",
      "        [ 1.8770e-01,  1.6147e+01],\n",
      "        [ 2.2464e-01,  1.6116e+01],\n",
      "        [ 1.2893e-01,  1.6029e+01],\n",
      "        [ 2.0726e-01,  1.5945e+01],\n",
      "        [ 3.1704e-02,  1.6297e+01],\n",
      "        [ 7.9448e-02,  1.6545e+01],\n",
      "        [ 8.2650e-02,  1.7130e+01],\n",
      "        [ 3.6031e-02,  1.8100e+01]])\n"
     ]
    },
    {
     "ename": "ValueError",
     "evalue": "too many values to unpack (expected 2)",
     "output_type": "error",
     "traceback": [
      "\u001b[0;31m---------------------------------------------------------------------------\u001b[0m",
      "\u001b[0;31mValueError\u001b[0m                                Traceback (most recent call last)",
      "Cell \u001b[0;32mIn[14], line 26\u001b[0m\n\u001b[1;32m     24\u001b[0m \u001b[39mprint\u001b[39m(logits\u001b[39m.\u001b[39mshape, angle\u001b[39m.\u001b[39mshape, distance\u001b[39m.\u001b[39mshape)\n\u001b[1;32m     25\u001b[0m \u001b[39mif\u001b[39;00m \u001b[39m\"\u001b[39m\u001b[39mmultitask\u001b[39m\u001b[39m\"\u001b[39m \u001b[39min\u001b[39;00m ckpt_path:\n\u001b[0;32m---> 26\u001b[0m     loss \u001b[39m=\u001b[39m calculate_loss(logits, angle, distance, multitask\u001b[39m=\u001b[39;49m\u001b[39m'\u001b[39;49m\u001b[39mmultitask\u001b[39;49m\u001b[39m'\u001b[39;49m)  \n\u001b[1;32m     27\u001b[0m     rmses\u001b[39m.\u001b[39mappend(loss)\n\u001b[1;32m     28\u001b[0m     save_preds(logits_angle, angle, \u001b[39m\"\u001b[39m\u001b[39mangle_multi\u001b[39m\u001b[39m\"\u001b[39m, newp)\n",
      "Cell \u001b[0;32mIn[4], line 4\u001b[0m, in \u001b[0;36mcalculate_loss\u001b[0;34m(logits, angle, distance, multitask)\u001b[0m\n\u001b[1;32m      2\u001b[0m \u001b[39mprint\u001b[39m(angle, distance, logits)\n\u001b[1;32m      3\u001b[0m \u001b[39mif\u001b[39;00m multitask \u001b[39m==\u001b[39m \u001b[39m\"\u001b[39m\u001b[39mmultitask\u001b[39m\u001b[39m\"\u001b[39m:\n\u001b[0;32m----> 4\u001b[0m     logits_angle, logits_dist \u001b[39m=\u001b[39m logits\n\u001b[1;32m      5\u001b[0m     mask \u001b[39m=\u001b[39m (distance \u001b[39m>\u001b[39m \u001b[39m50\u001b[39m) \u001b[39m|\u001b[39m (distance \u001b[39m==\u001b[39m \u001b[39m0\u001b[39m)\n\u001b[1;32m      6\u001b[0m     loss_angle \u001b[39m=\u001b[39m torch\u001b[39m.\u001b[39msqrt(mse_loss(logits_angle\u001b[39m.\u001b[39msqueeze(), angle\u001b[39m.\u001b[39msqueeze(), mask))\n",
      "\u001b[0;31mValueError\u001b[0m: too many values to unpack (expected 2)"
     ]
    }
   ],
   "source": [
    "\n",
    "for ckpt_path in [ckpt_pth_distance, ckpt_pth_angle, ckpt_pth_multitask]:\n",
    "    task = \"angle\" if 'angle' in ckpt_path else \"distance\" if \"distance\" in ckpt_path else \"multitask\"\n",
    "    if task == 'distance' or task =='angle': continue\n",
    "    multitask = task == 'multitask'\n",
    "    newp = \".\"#/\".join(ckpt_path.split(\"/\")[0:-2])\n",
    "    model = VTN(multitask=task, backbone=backbone)\n",
    "    module = LaneModule(model, multitask=task, dataset = dataset, bs=bs, time_horizon=10)\n",
    "    pth = f\"/data1/jessica/data/toyota/ckpts/COMMA/checkpoints_{dataset}_{task}\"\n",
    "    logger = TensorBoardLogger(save_dir=pth)\n",
    "    trainer = pl.Trainer(\n",
    "        accelerator=\"gpu\",\n",
    "        devices=[gpu_num] if torch.cuda.is_available() else None, \n",
    "        logger=logger,\n",
    "        max_epochs=100,\n",
    "        default_root_dir=pth\n",
    "        )\n",
    "    preds = trainer.predict(module, ckpt_path=ckpt_path)\n",
    "    rmses = []\n",
    "    for i in range(len(preds)):\n",
    "        elem = preds[i]\n",
    "        if multitask:\n",
    "            logits_angle, logits_distance = elem[0][0], elem[0][1]\n",
    "        logits, angle, distance = elem[0], elem[1].squeeze(), elem[2].squeeze()\n",
    "        print(logits.shape, angle.shape, distance.shape)\n",
    "        if \"multitask\" in ckpt_path:\n",
    "            loss = calculate_loss(logits, angle, distance, multitask='multitask')  \n",
    "            rmses.append(loss)\n",
    "            logits_angle = torch.tensor([l[0] for l in logits])\n",
    "            logits_dist = torch.tensor([l[1] for l in logits])\n",
    "            save_preds(logits_angle, angle, \"angle_multi\", newp)\n",
    "            save_preds(logits_dist, distance, \"dist_multi\", newp)\n",
    "        if \"angle\" in ckpt_path:\n",
    "            loss = calculate_loss(logits, angle, distance, multitask=\"angle\") \n",
    "            rmses.append(loss.item())\n",
    "            save_preds(logits, angle, \"angle\", newp)\n",
    "        if \"distance\" in ckpt_path:\n",
    "            distance = angle\n",
    "            loss = calculate_loss(logits, distance, distance, multitask=\"distance\")\n",
    "            rmses.append(loss.item())\n",
    "            save_preds(logits, distance, \"dist\", newp)\n",
    "    res[task] = rmses\n",
    "    print(rmses)\n",
    "\n"
   ]
  },
  {
   "cell_type": "code",
   "execution_count": null,
   "metadata": {},
   "outputs": [
    {
     "data": {
      "text/plain": [
       "{}"
      ]
     },
     "execution_count": 32,
     "metadata": {},
     "output_type": "execute_result"
    }
   ],
   "source": [
    "res"
   ]
  },
  {
   "cell_type": "code",
   "execution_count": null,
   "metadata": {},
   "outputs": [
    {
     "ename": "KeyError",
     "evalue": "'distance'",
     "output_type": "error",
     "traceback": [
      "\u001b[0;31m---------------------------------------------------------------------------\u001b[0m",
      "\u001b[0;31mKeyError\u001b[0m                                  Traceback (most recent call last)",
      "Cell \u001b[0;32mIn[30], line 2\u001b[0m\n\u001b[1;32m      1\u001b[0m df \u001b[39m=\u001b[39m pd\u001b[39m.\u001b[39mDataFrame()\n\u001b[0;32m----> 2\u001b[0m df[\u001b[39m'\u001b[39m\u001b[39mdistance\u001b[39m\u001b[39m'\u001b[39m] \u001b[39m=\u001b[39m res[\u001b[39m'\u001b[39;49m\u001b[39mdistance\u001b[39;49m\u001b[39m'\u001b[39;49m]\n\u001b[1;32m      3\u001b[0m df[\u001b[39m'\u001b[39m\u001b[39mangle\u001b[39m\u001b[39m'\u001b[39m] \u001b[39m=\u001b[39m res[\u001b[39m'\u001b[39m\u001b[39mangle\u001b[39m\u001b[39m'\u001b[39m]\n\u001b[1;32m      4\u001b[0m df[\u001b[39m'\u001b[39m\u001b[39mdriver\u001b[39m\u001b[39m'\u001b[39m] \u001b[39m=\u001b[39m \u001b[39mrange\u001b[39m(\u001b[39mlen\u001b[39m(res[\u001b[39m'\u001b[39m\u001b[39mangle\u001b[39m\u001b[39m'\u001b[39m]))\n",
      "\u001b[0;31mKeyError\u001b[0m: 'distance'"
     ]
    }
   ],
   "source": [
    "df = pd.DataFrame()\n",
    "df['distance'] = res['distance']\n",
    "df['angle'] = res['angle']\n",
    "df['driver'] = range(len(res['angle']))\n",
    "alt.Chart(df).mark_circle(size=60).encode(\n",
    "    x=alt.X('distance',scale=alt.Scale(domain=(0, 16))),\n",
    "    y=alt.Y('angle',scale=alt.Scale(domain=(0, 3))),\n",
    "    tooltip=['driver']\n",
    ").interactive()\n"
   ]
  },
  {
   "cell_type": "code",
   "execution_count": null,
   "metadata": {},
   "outputs": [],
   "source": [
    "l = list(zip(*res[\"multitask\"]))\n",
    "z = l[1]\n",
    "y = l[0]\n",
    "df = pd.DataFrame()\n",
    "df['distance'] = z\n",
    "df['distance'] = df['distance'].apply(lambda x: x.item())\n",
    "df['angle'] = y\n",
    "df['angle'] = df['angle'].apply(lambda x: x.item())\n",
    "df['driver'] = range(len(y))\n",
    "alt.Chart(df).mark_circle(size=60).encode(\n",
    "    x='distance',\n",
    "    y='angle',\n",
    "    tooltip=['driver']\n",
    ").interactive()"
   ]
  },
  {
   "cell_type": "code",
   "execution_count": null,
   "metadata": {},
   "outputs": [],
   "source": [
    "preds_path = '/data1/jessica/data/toyota/ckpts/COMMA/checkpoints_comma_distance/lightning_logs/version_49/dist.csv'\n",
    "preds_path=f'/data1/jessica/data/toyota/ckpts/ckpts_desiredcomma_distance/lightning_logs/version_1/dist.csv'\n",
    "df = pd.read_csv(preds_path)\n",
    "df.columns = ['preds', 'targets']\n",
    "df = df[df['targets'] != 0]\n",
    "df['err'] = df['targets'] - df['preds']\n",
    "ten = df[df['targets'] < 10]\n",
    "six = df[df['targets'] > 60]\n",
    "twen = df[(df['targets'] > 10 & (df['targets'] < 20))]\n",
    "four = df[(df['targets'] > 20 & (df['targets'] < 40))]\n",
    "fift = df[(df['targets'] > 40 & (df['targets'] < 60))]\n",
    "ndf = {}\n",
    "ndf[\"<10\"] = ten['err'].tolist()\n",
    "ndf[\"10-20\"] = twen['err'].tolist()\n",
    "ndf[\"20-40\"] = four['err'].tolist()\n",
    "ndf[\"40-60\"] = fift['err'].tolist()\n",
    "ndf[\">60\"] = six['err'].tolist()\n",
    "my_dict = ndf\n",
    "\n",
    "fig, ax = plt.subplots()\n",
    "ax.boxplot(my_dict.values())\n",
    "ax.set_xticklabels(my_dict.keys())"
   ]
  },
  {
   "cell_type": "code",
   "execution_count": null,
   "metadata": {},
   "outputs": [],
   "source": [
    "multitask_parameter_resnet_backbone = '/data1/jessica/data/toyota/ckpts/checkpoints_comma_multitask/lightning_logs/version_9/checkpoints/epoch=86-step=2523.ckpt'\n",
    "multitask_parameter_vit_backbone = '/data1/jessica/data/toyota/ckpts/checkpoints_comma_multitask/lightning_logs/version_22/checkpoints/epoch=9-step=2280.ckpt'\n",
    "angle_vit_backbone =  '/data1/jessica/data/toyota/ckpts/checkpoints_comma_angle/lightning_logs/version_2/checkpoints/epoch=11-step=2736.ckpt'\n",
    "distance_vit_backbone =  '/data1/jessica/data/toyota/ckpts/checkpoints_comma_distance/lightning_logs/version_0/checkpoints/epoch=25-step=5928.ckpt'\n",
    "multitask_resnet_backbone_03_07_angle_dist = '/data1/jessica/data/toyota/ckpts/checkpoints_comma_multitask/lightning_logs/version_23/checkpoints/epoch=64-step=3705.ckpt'\n",
    "multitask_resnet_backbone_7_3_angle_dist = '/data1/jessica/data/toyota/ckpts/checkpoints_comma_multitask/lightning_logs/version_24/checkpoints/epoch=48-step=11172.ckp'"
   ]
  },
  {
   "cell_type": "code",
   "execution_count": null,
   "metadata": {},
   "outputs": [],
   "source": [
    "res_dict = {}"
   ]
  },
  {
   "cell_type": "code",
   "execution_count": null,
   "metadata": {},
   "outputs": [
    {
     "name": "stderr",
     "output_type": "stream",
     "text": [
      "GPU available: True (cuda), used: True\n",
      "TPU available: False, using: 0 TPU cores\n",
      "IPU available: False, using: 0 IPUs\n",
      "HPU available: False, using: 0 HPUs\n",
      "Restoring states from the checkpoint path at /data1/jessica/data/toyota/ckpts/checkpoints_comma_multitask/lightning_logs/version_9/checkpoints/epoch=86-step=2523.ckpt\n",
      "LOCAL_RANK: 0 - CUDA_VISIBLE_DEVICES: [0,1,2,3]\n",
      "Loaded model weights from checkpoint at /data1/jessica/data/toyota/ckpts/checkpoints_comma_multitask/lightning_logs/version_9/checkpoints/epoch=86-step=2523.ckpt\n",
      "/home/jessica/.local/lib/python3.10/site-packages/pytorch_lightning/trainer/connectors/data_connector.py:224: PossibleUserWarning: The dataloader, predict_dataloader 0, does not have many workers which may be a bottleneck. Consider increasing the value of the `num_workers` argument` (try 40 which is the number of cpus on this machine) in the `DataLoader` init to improve performance.\n",
      "  rank_zero_warn(\n"
     ]
    },
    {
     "name": "stdout",
     "output_type": "stream",
     "text": [
      "Predicting DataLoader 0: 100%|██████████| 17/17 [00:57<00:00,  3.38s/it]\n"
     ]
    }
   ],
   "source": [
    "\n",
    "backbone = \"resnet\"\n",
    "dataset = \"comma\"\n",
    "bs = 1\n",
    "gpu_num = 2\n",
    "for ckpt_path in [multitask_parameter_resnet_backbone]:#distance_vit_backbone, angle_vit_backbone, multitask_parameter_vit_backbone]:\n",
    "    newp = \"/\".join(ckpt_path.split(\"/\")[0:-2])\n",
    "    task = \"angle\" if 'angle' in ckpt_path else \"distance\" if \"distance\" in ckpt_path else \"multitask\"\n",
    "    model = VTN(multitask=task, backbone=backbone)\n",
    "    module = LaneModule(model, multitask=task, dataset = dataset, bs=bs)\n",
    "    pth = f\"/data1/jessica/data/toyota/ckpts/COMMA/checkpoints_{dataset}_{task}\"\n",
    "    logger = TensorBoardLogger(save_dir=pth)\n",
    "    trainer = pl.Trainer(\n",
    "        accelerator=\"gpu\",\n",
    "        devices=[gpu_num] if torch.cuda.is_available() else None, \n",
    "        logger=logger,\n",
    "        max_epochs=100,\n",
    "        default_root_dir=pth\n",
    "        )\n",
    "    preds = trainer.predict(module, ckpt_path=ckpt_path)\n",
    "    res_dict[ckpt_path] = preds\n"
   ]
  },
  {
   "cell_type": "code",
   "execution_count": null,
   "metadata": {},
   "outputs": [
    {
     "name": "stdout",
     "output_type": "stream",
     "text": [
      "/data1/jessica/data/toyota/ckpts/checkpoints_comma_distance/lightning_logs/version_0/checkpoints/epoch=25-step=5928.ckpt tensor(12.2290)\n",
      "/data1/jessica/data/toyota/ckpts/checkpoints_comma_angle/lightning_logs/version_2/checkpoints/epoch=11-step=2736.ckpt tensor(5.4740)\n",
      "tensor([-1.9000, -1.9000, -1.6000,  ...,  6.0000,  8.0000,  8.2000]) tensor([61.5600, 61.3200, 61.5800,  ..., 22.2000, 22.6200, 22.9200])\n",
      "/data1/jessica/data/toyota/ckpts/checkpoints_comma_multitask/lightning_logs/version_22/checkpoints/epoch=9-step=2280.ckpt (tensor(9.1058), tensor(5.2456))\n",
      "tensor([-1.9000, -1.9000, -1.6000,  ...,  6.0000,  8.0000,  8.2000]) tensor([61.5600, 61.3200, 61.5800,  ..., 22.2000, 22.6200, 22.9200])\n",
      "/data1/jessica/data/toyota/ckpts/checkpoints_comma_multitask/lightning_logs/version_9/checkpoints/epoch=86-step=2523.ckpt (tensor(7.0857), tensor(3.1160))\n"
     ]
    }
   ],
   "source": [
    "for key in res_dict.keys():\n",
    "    preds = res_dict[key]\n",
    "    logits_angle = []\n",
    "    logits = []\n",
    "    logits_dist = []\n",
    "    angle = []\n",
    "    dist = []\n",
    "    for elem in preds: \n",
    "        angle.extend(elem[1].squeeze().tolist())\n",
    "        dist.extend(elem[2].squeeze().tolist())\n",
    "        if \"multitask\" not in key:\n",
    "            logits.extend(elem[0].squeeze().tolist())\n",
    "        else:\n",
    "            logits_angle.extend(elem[0][0].squeeze().tolist())\n",
    "            logits_dist.extend(elem[0][1].squeeze().tolist())\n",
    "    \n",
    "    print(key, calculate_loss(torch.tensor(logits) if \"multitask\" not in key else (torch.tensor(logits_angle), torch.tensor(logits_dist)), torch.tensor(angle), torch.tensor(dist), \"distance\" if 'dist' in key else (\"angle\" if \"angle\" in key else \"multitask\")))"
   ]
  }
 ],
 "metadata": {
  "kernelspec": {
   "display_name": "Python 3",
   "language": "python",
   "name": "python3"
  },
  "language_info": {
   "codemirror_mode": {
    "name": "ipython",
    "version": 3
   },
   "file_extension": ".py",
   "mimetype": "text/x-python",
   "name": "python",
   "nbconvert_exporter": "python",
   "pygments_lexer": "ipython3",
   "version": "3.10.6"
  },
  "orig_nbformat": 4
 },
 "nbformat": 4,
 "nbformat_minor": 2
}
